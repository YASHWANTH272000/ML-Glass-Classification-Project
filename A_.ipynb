{
  "nbformat": 4,
  "nbformat_minor": 0,
  "metadata": {
    "colab": {
      "name": "A*.ipynb",
      "provenance": []
    },
    "kernelspec": {
      "name": "python3",
      "display_name": "Python 3"
    },
    "language_info": {
      "name": "python"
    }
  },
  "cells": [
    {
      "cell_type": "code",
      "execution_count": null,
      "metadata": {
        "id": "GNKP3eeFfR0m"
      },
      "outputs": [],
      "source": [
        ""
      ]
    },
    {
      "cell_type": "code",
      "source": [
        ""
      ],
      "metadata": {
        "id": "CJn26nxqhhsK"
      },
      "execution_count": null,
      "outputs": []
    },
    {
      "cell_type": "code",
      "source": [
        ""
      ],
      "metadata": {
        "id": "SnfEH_RGiBMj"
      },
      "execution_count": null,
      "outputs": []
    },
    {
      "cell_type": "code",
      "source": [
        "def astar(start_node,stop_node):\n",
        "  open_set=set(start_node)\n",
        "  closed_set=set()\n",
        "  g={}\n",
        "  parents={}\n",
        "  g[start_node]=0\n",
        "  parents[start_node]=start_node\n",
        "  while len(open_set)>0:\n",
        "    n=None\n",
        "    for v in open_set:\n",
        "      if n==None or g[v]+heuristic(v) < g[n]+heuristic(n):\n",
        "        n=v\n",
        "    if n==stop_node or graph_nodes[n]==None:\n",
        "      pass\n",
        "    else:\n",
        "      for (m,weight) in get_neighbors(n):\n",
        "        if m not in open_set and m not in closed_set:\n",
        "          open_set.add(m)\n",
        "          parents[m]=n\n",
        "          g[m]=g[n]+weight\n",
        "        else:\n",
        "          if g[m]>g[n]+weight:\n",
        "            g[m]=g[n]+weight\n",
        "            parents[m]=n\n",
        "            if m in closed_set:\n",
        "              closed_set.remove(m)\n",
        "              open_set.add(m)\n",
        "                \n",
        "    if n==None:\n",
        "      print(\"path does not exist 1\\n\")\n",
        "      return None\n",
        "    if n==stop_node:\n",
        "      path=[]\n",
        "      while parents[n]!=n:\n",
        "        path.append(n)\n",
        "        n=parents[n]\n",
        "      path.append(start_node)\n",
        "      path.reverse()\n",
        "      print(\"path exist\\n\")\n",
        "      print(\"path: {}\".format(path))\n",
        "      return path\n",
        "\n",
        "    open_set.remove(n)\n",
        "    closed_set.add(n)\n",
        "      \n",
        "  print(\"path does not exist\")\n",
        "  return None\n",
        "\n",
        "def heuristic(n):\n",
        "  heur={'A':10,'B':8,'C':5,'D':7,'E':3,'F':6,'G':5,'H':3,'I':1,'J':0}\n",
        "  return heur[n]\n",
        "def get_neighbors(v):\n",
        "  if v in graph_nodes:\n",
        "    return graph_nodes[v]\n",
        "  else:\n",
        "    return None\n",
        "graph_nodes = {\n",
        "    'A': [('B', 6), ('F', 3)],\n",
        "    'B': [('C', 3), ('D', 2)],\n",
        "    'C': [('D', 1), ('E', 5)],\n",
        "    'D': [('C', 1), ('E', 8)],\n",
        "    'E': [('I', 5), ('J', 5)],\n",
        "    'F': [('G', 1),('H', 7)] ,\n",
        "    'G': [('I', 3)],\n",
        "    'H': [('I', 2)],\n",
        "    'I': [('E', 5), ('J', 3)],\n",
        "     \n",
        "}\n"
      ],
      "metadata": {
        "id": "NcxjHnlNiSO0"
      },
      "execution_count": 37,
      "outputs": []
    },
    {
      "cell_type": "code",
      "source": [
        "\n",
        "astar('A','J')"
      ],
      "metadata": {
        "colab": {
          "base_uri": "https://localhost:8080/"
        },
        "id": "U1wBw6_Vlb89",
        "outputId": "ea484242-31a0-4720-9661-4ca21dff7f6a"
      },
      "execution_count": 38,
      "outputs": [
        {
          "output_type": "stream",
          "name": "stdout",
          "text": [
            "path exist\n",
            "\n",
            "path: ['A', 'F', 'G', 'I', 'J']\n"
          ]
        },
        {
          "output_type": "execute_result",
          "data": {
            "text/plain": [
              "['A', 'F', 'G', 'I', 'J']"
            ]
          },
          "metadata": {},
          "execution_count": 38
        }
      ]
    },
    {
      "cell_type": "code",
      "source": [
        ""
      ],
      "metadata": {
        "id": "mQ7IcKlXnfYK"
      },
      "execution_count": null,
      "outputs": []
    }
  ]
}