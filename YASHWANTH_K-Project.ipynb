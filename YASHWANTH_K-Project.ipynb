{
  "nbformat": 4,
  "nbformat_minor": 0,
  "metadata": {
    "colab": {
      "name": "ML-Project-GlassType.ipynb",
      "provenance": [],
      "collapsed_sections": []
    },
    "kernelspec": {
      "name": "python3",
      "display_name": "Python 3"
    },
    "language_info": {
      "name": "python"
    }
  },
  "cells": [
    {
      "cell_type": "markdown",
      "metadata": {
        "id": "EK-yj83aXPre"
      },
      "source": [
        "#YASHWANTH K\n",
        "KSIT\n",
        "\n",
        "1KS18CS121\n",
        "\n",
        "#TOPIC : \"PREDICTING TYPE OF GLASS\"\n",
        "\n",
        "\n",
        "Type of glass: (class attribute)\n",
        "\n",
        "-- 1 building windows float processed\n",
        "\n",
        "-- 2 building windows non float processed \n",
        "\n",
        "-- 3 vehicle windows float processed\n",
        "\n",
        "-- 4 vehicle windows non float processed (none in this database)\n",
        "\n",
        "-- 5 containers\n",
        "\n",
        "-- 6 tableware\n",
        "\n",
        "-- 7 headlamps\n"
      ]
    },
    {
      "cell_type": "markdown",
      "metadata": {
        "id": "f-kFToN58QZD"
      },
      "source": [
        "#Data Preprocessing"
      ]
    },
    {
      "cell_type": "code",
      "metadata": {
        "id": "T0aaAbrzo9YA"
      },
      "source": [
        "import pandas as pd\n",
        "import numpy as np\n",
        "from sklearn.model_selection import train_test_split\n",
        "from sklearn.preprocessing import StandardScaler\n",
        "\n",
        "from sklearn.linear_model import LogisticRegression\n",
        "from sklearn.neighbors import KNeighborsClassifier\n",
        "from sklearn.tree import DecisionTreeClassifier\n",
        "from sklearn.ensemble import RandomForestClassifier\n",
        "from sklearn.svm import SVC\n",
        "\n",
        "from sklearn.metrics import accuracy_score,confusion_matrix"
      ],
      "execution_count": 1,
      "outputs": []
    },
    {
      "cell_type": "code",
      "metadata": {
        "colab": {
          "base_uri": "https://localhost:8080/",
          "height": 414
        },
        "id": "0sIgH7paxIrA",
        "outputId": "e96d153e-c7cd-4d26-8107-94d0907373a5"
      },
      "source": [
        "dataset = pd.read_csv('/content/drive/MyDrive/Projects/GlassDetails.csv')\n",
        "dataset"
      ],
      "execution_count": 2,
      "outputs": [
        {
          "output_type": "execute_result",
          "data": {
            "text/html": [
              "<div>\n",
              "<style scoped>\n",
              "    .dataframe tbody tr th:only-of-type {\n",
              "        vertical-align: middle;\n",
              "    }\n",
              "\n",
              "    .dataframe tbody tr th {\n",
              "        vertical-align: top;\n",
              "    }\n",
              "\n",
              "    .dataframe thead th {\n",
              "        text-align: right;\n",
              "    }\n",
              "</style>\n",
              "<table border=\"1\" class=\"dataframe\">\n",
              "  <thead>\n",
              "    <tr style=\"text-align: right;\">\n",
              "      <th></th>\n",
              "      <th>RI</th>\n",
              "      <th>Na</th>\n",
              "      <th>Mg</th>\n",
              "      <th>Al</th>\n",
              "      <th>Si</th>\n",
              "      <th>K</th>\n",
              "      <th>Ca</th>\n",
              "      <th>Ba</th>\n",
              "      <th>Fe</th>\n",
              "      <th>Type</th>\n",
              "    </tr>\n",
              "  </thead>\n",
              "  <tbody>\n",
              "    <tr>\n",
              "      <th>0</th>\n",
              "      <td>1.52101</td>\n",
              "      <td>13.64</td>\n",
              "      <td>4.49</td>\n",
              "      <td>1.10</td>\n",
              "      <td>71.78</td>\n",
              "      <td>0.06</td>\n",
              "      <td>8.75</td>\n",
              "      <td>0.00</td>\n",
              "      <td>0.0</td>\n",
              "      <td>1</td>\n",
              "    </tr>\n",
              "    <tr>\n",
              "      <th>1</th>\n",
              "      <td>1.51761</td>\n",
              "      <td>13.89</td>\n",
              "      <td>3.60</td>\n",
              "      <td>1.36</td>\n",
              "      <td>72.73</td>\n",
              "      <td>0.48</td>\n",
              "      <td>7.83</td>\n",
              "      <td>0.00</td>\n",
              "      <td>0.0</td>\n",
              "      <td>1</td>\n",
              "    </tr>\n",
              "    <tr>\n",
              "      <th>2</th>\n",
              "      <td>1.51618</td>\n",
              "      <td>13.53</td>\n",
              "      <td>3.55</td>\n",
              "      <td>1.54</td>\n",
              "      <td>72.99</td>\n",
              "      <td>0.39</td>\n",
              "      <td>7.78</td>\n",
              "      <td>0.00</td>\n",
              "      <td>0.0</td>\n",
              "      <td>1</td>\n",
              "    </tr>\n",
              "    <tr>\n",
              "      <th>3</th>\n",
              "      <td>1.51766</td>\n",
              "      <td>13.21</td>\n",
              "      <td>3.69</td>\n",
              "      <td>1.29</td>\n",
              "      <td>72.61</td>\n",
              "      <td>0.57</td>\n",
              "      <td>8.22</td>\n",
              "      <td>0.00</td>\n",
              "      <td>0.0</td>\n",
              "      <td>1</td>\n",
              "    </tr>\n",
              "    <tr>\n",
              "      <th>4</th>\n",
              "      <td>1.51742</td>\n",
              "      <td>13.27</td>\n",
              "      <td>3.62</td>\n",
              "      <td>1.24</td>\n",
              "      <td>73.08</td>\n",
              "      <td>0.55</td>\n",
              "      <td>8.07</td>\n",
              "      <td>0.00</td>\n",
              "      <td>0.0</td>\n",
              "      <td>1</td>\n",
              "    </tr>\n",
              "    <tr>\n",
              "      <th>...</th>\n",
              "      <td>...</td>\n",
              "      <td>...</td>\n",
              "      <td>...</td>\n",
              "      <td>...</td>\n",
              "      <td>...</td>\n",
              "      <td>...</td>\n",
              "      <td>...</td>\n",
              "      <td>...</td>\n",
              "      <td>...</td>\n",
              "      <td>...</td>\n",
              "    </tr>\n",
              "    <tr>\n",
              "      <th>209</th>\n",
              "      <td>1.51623</td>\n",
              "      <td>14.14</td>\n",
              "      <td>0.00</td>\n",
              "      <td>2.88</td>\n",
              "      <td>72.61</td>\n",
              "      <td>0.08</td>\n",
              "      <td>9.18</td>\n",
              "      <td>1.06</td>\n",
              "      <td>0.0</td>\n",
              "      <td>7</td>\n",
              "    </tr>\n",
              "    <tr>\n",
              "      <th>210</th>\n",
              "      <td>1.51685</td>\n",
              "      <td>14.92</td>\n",
              "      <td>0.00</td>\n",
              "      <td>1.99</td>\n",
              "      <td>73.06</td>\n",
              "      <td>0.00</td>\n",
              "      <td>8.40</td>\n",
              "      <td>1.59</td>\n",
              "      <td>0.0</td>\n",
              "      <td>7</td>\n",
              "    </tr>\n",
              "    <tr>\n",
              "      <th>211</th>\n",
              "      <td>1.52065</td>\n",
              "      <td>14.36</td>\n",
              "      <td>0.00</td>\n",
              "      <td>2.02</td>\n",
              "      <td>73.42</td>\n",
              "      <td>0.00</td>\n",
              "      <td>8.44</td>\n",
              "      <td>1.64</td>\n",
              "      <td>0.0</td>\n",
              "      <td>7</td>\n",
              "    </tr>\n",
              "    <tr>\n",
              "      <th>212</th>\n",
              "      <td>1.51651</td>\n",
              "      <td>14.38</td>\n",
              "      <td>0.00</td>\n",
              "      <td>1.94</td>\n",
              "      <td>73.61</td>\n",
              "      <td>0.00</td>\n",
              "      <td>8.48</td>\n",
              "      <td>1.57</td>\n",
              "      <td>0.0</td>\n",
              "      <td>7</td>\n",
              "    </tr>\n",
              "    <tr>\n",
              "      <th>213</th>\n",
              "      <td>1.51711</td>\n",
              "      <td>14.23</td>\n",
              "      <td>0.00</td>\n",
              "      <td>2.08</td>\n",
              "      <td>73.36</td>\n",
              "      <td>0.00</td>\n",
              "      <td>8.62</td>\n",
              "      <td>1.67</td>\n",
              "      <td>0.0</td>\n",
              "      <td>7</td>\n",
              "    </tr>\n",
              "  </tbody>\n",
              "</table>\n",
              "<p>214 rows × 10 columns</p>\n",
              "</div>"
            ],
            "text/plain": [
              "          RI     Na    Mg    Al     Si     K    Ca    Ba   Fe  Type\n",
              "0    1.52101  13.64  4.49  1.10  71.78  0.06  8.75  0.00  0.0     1\n",
              "1    1.51761  13.89  3.60  1.36  72.73  0.48  7.83  0.00  0.0     1\n",
              "2    1.51618  13.53  3.55  1.54  72.99  0.39  7.78  0.00  0.0     1\n",
              "3    1.51766  13.21  3.69  1.29  72.61  0.57  8.22  0.00  0.0     1\n",
              "4    1.51742  13.27  3.62  1.24  73.08  0.55  8.07  0.00  0.0     1\n",
              "..       ...    ...   ...   ...    ...   ...   ...   ...  ...   ...\n",
              "209  1.51623  14.14  0.00  2.88  72.61  0.08  9.18  1.06  0.0     7\n",
              "210  1.51685  14.92  0.00  1.99  73.06  0.00  8.40  1.59  0.0     7\n",
              "211  1.52065  14.36  0.00  2.02  73.42  0.00  8.44  1.64  0.0     7\n",
              "212  1.51651  14.38  0.00  1.94  73.61  0.00  8.48  1.57  0.0     7\n",
              "213  1.51711  14.23  0.00  2.08  73.36  0.00  8.62  1.67  0.0     7\n",
              "\n",
              "[214 rows x 10 columns]"
            ]
          },
          "metadata": {},
          "execution_count": 2
        }
      ]
    },
    {
      "cell_type": "code",
      "metadata": {
        "colab": {
          "base_uri": "https://localhost:8080/"
        },
        "id": "LIwpsQpTxWgt",
        "outputId": "8901b219-ce59-44de-872a-8894ee4ff3b1"
      },
      "source": [
        "dataset.info()"
      ],
      "execution_count": 3,
      "outputs": [
        {
          "output_type": "stream",
          "name": "stdout",
          "text": [
            "<class 'pandas.core.frame.DataFrame'>\n",
            "RangeIndex: 214 entries, 0 to 213\n",
            "Data columns (total 10 columns):\n",
            " #   Column  Non-Null Count  Dtype  \n",
            "---  ------  --------------  -----  \n",
            " 0   RI      214 non-null    float64\n",
            " 1   Na      214 non-null    float64\n",
            " 2   Mg      214 non-null    float64\n",
            " 3   Al      214 non-null    float64\n",
            " 4   Si      214 non-null    float64\n",
            " 5   K       214 non-null    float64\n",
            " 6   Ca      214 non-null    float64\n",
            " 7   Ba      214 non-null    float64\n",
            " 8   Fe      214 non-null    float64\n",
            " 9   Type    214 non-null    int64  \n",
            "dtypes: float64(9), int64(1)\n",
            "memory usage: 16.8 KB\n"
          ]
        }
      ]
    },
    {
      "cell_type": "code",
      "metadata": {
        "colab": {
          "base_uri": "https://localhost:8080/",
          "height": 294
        },
        "id": "Ikd2-HOtkkxt",
        "outputId": "3a6a5cce-e6dc-4753-8341-467e48fe39a1"
      },
      "source": [
        "dataset.describe()"
      ],
      "execution_count": 4,
      "outputs": [
        {
          "output_type": "execute_result",
          "data": {
            "text/html": [
              "<div>\n",
              "<style scoped>\n",
              "    .dataframe tbody tr th:only-of-type {\n",
              "        vertical-align: middle;\n",
              "    }\n",
              "\n",
              "    .dataframe tbody tr th {\n",
              "        vertical-align: top;\n",
              "    }\n",
              "\n",
              "    .dataframe thead th {\n",
              "        text-align: right;\n",
              "    }\n",
              "</style>\n",
              "<table border=\"1\" class=\"dataframe\">\n",
              "  <thead>\n",
              "    <tr style=\"text-align: right;\">\n",
              "      <th></th>\n",
              "      <th>RI</th>\n",
              "      <th>Na</th>\n",
              "      <th>Mg</th>\n",
              "      <th>Al</th>\n",
              "      <th>Si</th>\n",
              "      <th>K</th>\n",
              "      <th>Ca</th>\n",
              "      <th>Ba</th>\n",
              "      <th>Fe</th>\n",
              "      <th>Type</th>\n",
              "    </tr>\n",
              "  </thead>\n",
              "  <tbody>\n",
              "    <tr>\n",
              "      <th>count</th>\n",
              "      <td>214.000000</td>\n",
              "      <td>214.000000</td>\n",
              "      <td>214.000000</td>\n",
              "      <td>214.000000</td>\n",
              "      <td>214.000000</td>\n",
              "      <td>214.000000</td>\n",
              "      <td>214.000000</td>\n",
              "      <td>214.000000</td>\n",
              "      <td>214.000000</td>\n",
              "      <td>214.000000</td>\n",
              "    </tr>\n",
              "    <tr>\n",
              "      <th>mean</th>\n",
              "      <td>1.518365</td>\n",
              "      <td>13.407850</td>\n",
              "      <td>2.684533</td>\n",
              "      <td>1.444907</td>\n",
              "      <td>72.650935</td>\n",
              "      <td>0.497056</td>\n",
              "      <td>8.956963</td>\n",
              "      <td>0.175047</td>\n",
              "      <td>0.057009</td>\n",
              "      <td>2.780374</td>\n",
              "    </tr>\n",
              "    <tr>\n",
              "      <th>std</th>\n",
              "      <td>0.003037</td>\n",
              "      <td>0.816604</td>\n",
              "      <td>1.442408</td>\n",
              "      <td>0.499270</td>\n",
              "      <td>0.774546</td>\n",
              "      <td>0.652192</td>\n",
              "      <td>1.423153</td>\n",
              "      <td>0.497219</td>\n",
              "      <td>0.097439</td>\n",
              "      <td>2.103739</td>\n",
              "    </tr>\n",
              "    <tr>\n",
              "      <th>min</th>\n",
              "      <td>1.511150</td>\n",
              "      <td>10.730000</td>\n",
              "      <td>0.000000</td>\n",
              "      <td>0.290000</td>\n",
              "      <td>69.810000</td>\n",
              "      <td>0.000000</td>\n",
              "      <td>5.430000</td>\n",
              "      <td>0.000000</td>\n",
              "      <td>0.000000</td>\n",
              "      <td>1.000000</td>\n",
              "    </tr>\n",
              "    <tr>\n",
              "      <th>25%</th>\n",
              "      <td>1.516523</td>\n",
              "      <td>12.907500</td>\n",
              "      <td>2.115000</td>\n",
              "      <td>1.190000</td>\n",
              "      <td>72.280000</td>\n",
              "      <td>0.122500</td>\n",
              "      <td>8.240000</td>\n",
              "      <td>0.000000</td>\n",
              "      <td>0.000000</td>\n",
              "      <td>1.000000</td>\n",
              "    </tr>\n",
              "    <tr>\n",
              "      <th>50%</th>\n",
              "      <td>1.517680</td>\n",
              "      <td>13.300000</td>\n",
              "      <td>3.480000</td>\n",
              "      <td>1.360000</td>\n",
              "      <td>72.790000</td>\n",
              "      <td>0.555000</td>\n",
              "      <td>8.600000</td>\n",
              "      <td>0.000000</td>\n",
              "      <td>0.000000</td>\n",
              "      <td>2.000000</td>\n",
              "    </tr>\n",
              "    <tr>\n",
              "      <th>75%</th>\n",
              "      <td>1.519157</td>\n",
              "      <td>13.825000</td>\n",
              "      <td>3.600000</td>\n",
              "      <td>1.630000</td>\n",
              "      <td>73.087500</td>\n",
              "      <td>0.610000</td>\n",
              "      <td>9.172500</td>\n",
              "      <td>0.000000</td>\n",
              "      <td>0.100000</td>\n",
              "      <td>3.000000</td>\n",
              "    </tr>\n",
              "    <tr>\n",
              "      <th>max</th>\n",
              "      <td>1.533930</td>\n",
              "      <td>17.380000</td>\n",
              "      <td>4.490000</td>\n",
              "      <td>3.500000</td>\n",
              "      <td>75.410000</td>\n",
              "      <td>6.210000</td>\n",
              "      <td>16.190000</td>\n",
              "      <td>3.150000</td>\n",
              "      <td>0.510000</td>\n",
              "      <td>7.000000</td>\n",
              "    </tr>\n",
              "  </tbody>\n",
              "</table>\n",
              "</div>"
            ],
            "text/plain": [
              "               RI          Na          Mg  ...          Ba          Fe        Type\n",
              "count  214.000000  214.000000  214.000000  ...  214.000000  214.000000  214.000000\n",
              "mean     1.518365   13.407850    2.684533  ...    0.175047    0.057009    2.780374\n",
              "std      0.003037    0.816604    1.442408  ...    0.497219    0.097439    2.103739\n",
              "min      1.511150   10.730000    0.000000  ...    0.000000    0.000000    1.000000\n",
              "25%      1.516523   12.907500    2.115000  ...    0.000000    0.000000    1.000000\n",
              "50%      1.517680   13.300000    3.480000  ...    0.000000    0.000000    2.000000\n",
              "75%      1.519157   13.825000    3.600000  ...    0.000000    0.100000    3.000000\n",
              "max      1.533930   17.380000    4.490000  ...    3.150000    0.510000    7.000000\n",
              "\n",
              "[8 rows x 10 columns]"
            ]
          },
          "metadata": {},
          "execution_count": 4
        }
      ]
    },
    {
      "cell_type": "markdown",
      "metadata": {
        "id": "a_Cpj30Iy5wb"
      },
      "source": [
        "##Seperating features and target\n",
        "\n",
        "->Here feature values are the values model will use to predict the answer \n",
        "\n",
        "->Target value is the value which model will predict..."
      ]
    },
    {
      "cell_type": "code",
      "metadata": {
        "colab": {
          "base_uri": "https://localhost:8080/"
        },
        "id": "f-RXsfsKxYXF",
        "outputId": "ca63aeeb-8bef-4e02-fdf6-a1ff3658f822"
      },
      "source": [
        "#Collecting all coumn values from dataset except target value(that is last column) \n",
        "\n",
        "X = dataset.iloc[:,:-1].values\n",
        "\n",
        "\n",
        "X"
      ],
      "execution_count": 5,
      "outputs": [
        {
          "output_type": "execute_result",
          "data": {
            "text/plain": [
              "array([[ 1.52101, 13.64   ,  4.49   , ...,  8.75   ,  0.     ,  0.     ],\n",
              "       [ 1.51761, 13.89   ,  3.6    , ...,  7.83   ,  0.     ,  0.     ],\n",
              "       [ 1.51618, 13.53   ,  3.55   , ...,  7.78   ,  0.     ,  0.     ],\n",
              "       ...,\n",
              "       [ 1.52065, 14.36   ,  0.     , ...,  8.44   ,  1.64   ,  0.     ],\n",
              "       [ 1.51651, 14.38   ,  0.     , ...,  8.48   ,  1.57   ,  0.     ],\n",
              "       [ 1.51711, 14.23   ,  0.     , ...,  8.62   ,  1.67   ,  0.     ]])"
            ]
          },
          "metadata": {},
          "execution_count": 5
        }
      ]
    },
    {
      "cell_type": "code",
      "metadata": {
        "colab": {
          "base_uri": "https://localhost:8080/"
        },
        "id": "9IYYPtsjy3R9",
        "outputId": "837c464f-dc74-4436-86fd-c02c1f53d0e3"
      },
      "source": [
        "#Here we are taking last column as Target column \n",
        "y = dataset.iloc[:,-1].values\n",
        "y"
      ],
      "execution_count": 6,
      "outputs": [
        {
          "output_type": "execute_result",
          "data": {
            "text/plain": [
              "array([1, 1, 1, 1, 1, 1, 1, 1, 1, 1, 1, 1, 1, 1, 1, 1, 1, 1, 1, 1, 1, 1,\n",
              "       1, 1, 1, 1, 1, 1, 1, 1, 1, 1, 1, 1, 1, 1, 1, 1, 1, 1, 1, 1, 1, 1,\n",
              "       1, 1, 1, 1, 1, 1, 1, 1, 1, 1, 1, 1, 1, 1, 1, 1, 1, 1, 1, 1, 1, 1,\n",
              "       1, 1, 1, 1, 2, 2, 2, 2, 2, 2, 2, 2, 2, 2, 2, 2, 2, 2, 2, 2, 2, 2,\n",
              "       2, 2, 2, 2, 2, 2, 2, 2, 2, 2, 2, 2, 2, 2, 2, 2, 2, 2, 2, 2, 2, 2,\n",
              "       2, 2, 2, 2, 2, 2, 2, 2, 2, 2, 2, 2, 2, 2, 2, 2, 2, 2, 2, 2, 2, 2,\n",
              "       2, 2, 2, 2, 2, 2, 2, 2, 2, 2, 2, 2, 2, 2, 3, 3, 3, 3, 3, 3, 3, 3,\n",
              "       3, 3, 3, 3, 3, 3, 3, 3, 3, 5, 5, 5, 5, 5, 5, 5, 5, 5, 5, 5, 5, 5,\n",
              "       6, 6, 6, 6, 6, 6, 6, 6, 6, 7, 7, 7, 7, 7, 7, 7, 7, 7, 7, 7, 7, 7,\n",
              "       7, 7, 7, 7, 7, 7, 7, 7, 7, 7, 7, 7, 7, 7, 7, 7])"
            ]
          },
          "metadata": {},
          "execution_count": 6
        }
      ]
    },
    {
      "cell_type": "markdown",
      "metadata": {
        "id": "0L-A1vU4zacR"
      },
      "source": [
        "##Splitting dataset to train and test\n",
        "splitting train and test values\n",
        "\n",
        "75% of values to train and 25% to test"
      ]
    },
    {
      "cell_type": "code",
      "metadata": {
        "id": "U5ksODLmzY8A"
      },
      "source": [
        "X_train,X_test,y_train,y_test=train_test_split(X,y,test_size=0.25)"
      ],
      "execution_count": 7,
      "outputs": []
    },
    {
      "cell_type": "code",
      "metadata": {
        "colab": {
          "base_uri": "https://localhost:8080/"
        },
        "id": "Q3dqh6IlznU9",
        "outputId": "75b334fc-e242-45a3-ad4c-fb728b7513cf"
      },
      "source": [
        "print(len(X_test))\n",
        "X_train"
      ],
      "execution_count": 8,
      "outputs": [
        {
          "output_type": "stream",
          "name": "stdout",
          "text": [
            "54\n"
          ]
        },
        {
          "output_type": "execute_result",
          "data": {
            "text/plain": [
              "array([[ 1.51753, 12.57   ,  3.47   , ...,  8.55   ,  0.     ,  0.06   ],\n",
              "       [ 1.51969, 12.64   ,  0.     , ..., 11.53   ,  0.     ,  0.     ],\n",
              "       [ 1.52667, 13.99   ,  3.7    , ...,  9.82   ,  0.     ,  0.1    ],\n",
              "       ...,\n",
              "       [ 1.51514, 14.85   ,  0.     , ...,  8.39   ,  0.56   ,  0.     ],\n",
              "       [ 1.51711, 12.89   ,  3.62   , ...,  8.11   ,  0.     ,  0.     ],\n",
              "       [ 1.51764, 12.98   ,  3.54   , ...,  8.53   ,  0.     ,  0.     ]])"
            ]
          },
          "metadata": {},
          "execution_count": 8
        }
      ]
    },
    {
      "cell_type": "markdown",
      "metadata": {
        "id": "HjTG4jq314uh"
      },
      "source": [
        "##Scaling\n",
        "\n",
        "Here we are Standardising the data to the range -3 to +3 by using StandardScaler"
      ]
    },
    {
      "cell_type": "code",
      "metadata": {
        "id": "MCjqVOyJ2jhr"
      },
      "source": [
        "sc = StandardScaler()"
      ],
      "execution_count": 9,
      "outputs": []
    },
    {
      "cell_type": "code",
      "metadata": {
        "id": "USFZifjS2mp1"
      },
      "source": [
        "X_train = sc.fit_transform(X_train)\n",
        "X_test = sc.transform(X_test)"
      ],
      "execution_count": 10,
      "outputs": []
    },
    {
      "cell_type": "code",
      "metadata": {
        "colab": {
          "base_uri": "https://localhost:8080/"
        },
        "id": "DyXYr_8J20Mh",
        "outputId": "3d5cfcc1-e15b-42c1-dbb5-f7b9f18e76ba"
      },
      "source": [
        "X_train"
      ],
      "execution_count": 11,
      "outputs": [
        {
          "output_type": "execute_result",
          "data": {
            "text/plain": [
              "array([[-0.26615426, -0.96121326,  0.55107934, ..., -0.28352608,\n",
              "        -0.34690055,  0.10997887],\n",
              "       [ 0.41444442, -0.87894528, -1.88432025, ...,  1.7127119 ,\n",
              "        -0.34690055, -0.5337999 ],\n",
              "       [ 2.61378642,  0.70765158,  0.71250352, ...,  0.56721963,\n",
              "        -0.34690055,  0.53916472],\n",
              "       ...,\n",
              "       [-1.01922408,  1.71837254, -1.88432025, ..., -0.39070664,\n",
              "         0.74332356, -0.5337999 ],\n",
              "       [-0.39849289, -0.58513104,  0.65635598, ..., -0.57827263,\n",
              "        -0.34690055, -0.5337999 ],\n",
              "       [-0.23149414, -0.47935792,  0.60020844, ..., -0.29692365,\n",
              "        -0.34690055, -0.5337999 ]])"
            ]
          },
          "metadata": {},
          "execution_count": 11
        }
      ]
    },
    {
      "cell_type": "code",
      "metadata": {
        "id": "BnJNN_jCcHA8"
      },
      "source": [
        "#Model will give response with numbers 1 to 7, So we are converting that numbers to actual values by using this function.\n",
        "def values(arg):\n",
        "  dict={\n",
        "      1:\"building windows float processed\",\n",
        "      2:\"building windows non-float processed\",\n",
        "      3:\"vehicle windows floatprocessed\",\n",
        "      4:\"vehiclewindowsnonfloatprocessed\",\n",
        "      5:\"containers\",\n",
        "      6:\"tableware\",\n",
        "      7:\"headlamps\" \n",
        "      }\n",
        "  return dict.get(arg)"
      ],
      "execution_count": 12,
      "outputs": []
    },
    {
      "cell_type": "markdown",
      "metadata": {
        "id": "wi8AAj2b8EWK"
      },
      "source": [
        "#Classification\n",
        "\n"
      ]
    },
    {
      "cell_type": "markdown",
      "metadata": {
        "id": "BA2xfpYe0U4a"
      },
      "source": [
        "##Logistic Regression"
      ]
    },
    {
      "cell_type": "code",
      "metadata": {
        "id": "26mzfx8U0cuy"
      },
      "source": [
        "lcla=LogisticRegression()"
      ],
      "execution_count": 13,
      "outputs": []
    },
    {
      "cell_type": "code",
      "metadata": {
        "colab": {
          "base_uri": "https://localhost:8080/"
        },
        "id": "3DVrWGBs0fJm",
        "outputId": "6461cde7-8f72-46e1-f478-be53002f1862"
      },
      "source": [
        "lcla.fit(X_train,y_train)"
      ],
      "execution_count": 14,
      "outputs": [
        {
          "output_type": "execute_result",
          "data": {
            "text/plain": [
              "LogisticRegression(C=1.0, class_weight=None, dual=False, fit_intercept=True,\n",
              "                   intercept_scaling=1, l1_ratio=None, max_iter=100,\n",
              "                   multi_class='auto', n_jobs=None, penalty='l2',\n",
              "                   random_state=None, solver='lbfgs', tol=0.0001, verbose=0,\n",
              "                   warm_start=False)"
            ]
          },
          "metadata": {},
          "execution_count": 14
        }
      ]
    },
    {
      "cell_type": "code",
      "metadata": {
        "colab": {
          "base_uri": "https://localhost:8080/"
        },
        "id": "-TVSWXkS3yiN",
        "outputId": "5da7e096-50f7-4e24-8c21-697fcb2b8e94"
      },
      "source": [
        "lpred=lcla.predict(sc.transform([[1.52101,13.64,4.49,1.1,71.78,0.06,8.75,0,0]]))\n",
        "lpred"
      ],
      "execution_count": 15,
      "outputs": [
        {
          "output_type": "execute_result",
          "data": {
            "text/plain": [
              "array([1])"
            ]
          },
          "metadata": {},
          "execution_count": 15
        }
      ]
    },
    {
      "cell_type": "code",
      "metadata": {
        "id": "z09Yy5zP0kOk"
      },
      "source": [
        "lpred=lcla.predict(X_test)"
      ],
      "execution_count": 16,
      "outputs": []
    },
    {
      "cell_type": "code",
      "metadata": {
        "colab": {
          "base_uri": "https://localhost:8080/"
        },
        "id": "vKdsn1UM0sLA",
        "outputId": "5204dd77-b47d-4edc-ce71-22ab4238856d"
      },
      "source": [
        "for i in range(len(y_test)):\n",
        "  print(\"predicted value :\",lpred[i],\"\\tActual value :\",y_test[i],\",\",values(y_test[i]))"
      ],
      "execution_count": 17,
      "outputs": [
        {
          "output_type": "stream",
          "name": "stdout",
          "text": [
            "predicted value : 2 \tActual value : 1 , building windows float processed\n",
            "predicted value : 2 \tActual value : 1 , building windows float processed\n",
            "predicted value : 1 \tActual value : 2 , building windows non-float processed\n",
            "predicted value : 1 \tActual value : 1 , building windows float processed\n",
            "predicted value : 1 \tActual value : 1 , building windows float processed\n",
            "predicted value : 2 \tActual value : 1 , building windows float processed\n",
            "predicted value : 1 \tActual value : 1 , building windows float processed\n",
            "predicted value : 1 \tActual value : 1 , building windows float processed\n",
            "predicted value : 2 \tActual value : 1 , building windows float processed\n",
            "predicted value : 2 \tActual value : 2 , building windows non-float processed\n",
            "predicted value : 1 \tActual value : 1 , building windows float processed\n",
            "predicted value : 6 \tActual value : 6 , tableware\n",
            "predicted value : 7 \tActual value : 7 , headlamps\n",
            "predicted value : 1 \tActual value : 1 , building windows float processed\n",
            "predicted value : 1 \tActual value : 2 , building windows non-float processed\n",
            "predicted value : 2 \tActual value : 2 , building windows non-float processed\n",
            "predicted value : 1 \tActual value : 1 , building windows float processed\n",
            "predicted value : 7 \tActual value : 7 , headlamps\n",
            "predicted value : 2 \tActual value : 2 , building windows non-float processed\n",
            "predicted value : 2 \tActual value : 5 , containers\n",
            "predicted value : 1 \tActual value : 2 , building windows non-float processed\n",
            "predicted value : 1 \tActual value : 1 , building windows float processed\n",
            "predicted value : 7 \tActual value : 7 , headlamps\n",
            "predicted value : 2 \tActual value : 2 , building windows non-float processed\n",
            "predicted value : 6 \tActual value : 2 , building windows non-float processed\n",
            "predicted value : 7 \tActual value : 7 , headlamps\n",
            "predicted value : 2 \tActual value : 3 , vehicle windows floatprocessed\n",
            "predicted value : 1 \tActual value : 2 , building windows non-float processed\n",
            "predicted value : 2 \tActual value : 2 , building windows non-float processed\n",
            "predicted value : 1 \tActual value : 1 , building windows float processed\n",
            "predicted value : 1 \tActual value : 1 , building windows float processed\n",
            "predicted value : 2 \tActual value : 2 , building windows non-float processed\n",
            "predicted value : 1 \tActual value : 1 , building windows float processed\n",
            "predicted value : 1 \tActual value : 3 , vehicle windows floatprocessed\n",
            "predicted value : 1 \tActual value : 2 , building windows non-float processed\n",
            "predicted value : 7 \tActual value : 7 , headlamps\n",
            "predicted value : 2 \tActual value : 2 , building windows non-float processed\n",
            "predicted value : 1 \tActual value : 2 , building windows non-float processed\n",
            "predicted value : 7 \tActual value : 7 , headlamps\n",
            "predicted value : 1 \tActual value : 2 , building windows non-float processed\n",
            "predicted value : 1 \tActual value : 2 , building windows non-float processed\n",
            "predicted value : 2 \tActual value : 2 , building windows non-float processed\n",
            "predicted value : 2 \tActual value : 2 , building windows non-float processed\n",
            "predicted value : 7 \tActual value : 2 , building windows non-float processed\n",
            "predicted value : 2 \tActual value : 1 , building windows float processed\n",
            "predicted value : 2 \tActual value : 2 , building windows non-float processed\n",
            "predicted value : 1 \tActual value : 1 , building windows float processed\n",
            "predicted value : 7 \tActual value : 7 , headlamps\n",
            "predicted value : 2 \tActual value : 5 , containers\n",
            "predicted value : 1 \tActual value : 1 , building windows float processed\n",
            "predicted value : 5 \tActual value : 5 , containers\n",
            "predicted value : 1 \tActual value : 1 , building windows float processed\n",
            "predicted value : 2 \tActual value : 2 , building windows non-float processed\n",
            "predicted value : 1 \tActual value : 1 , building windows float processed\n"
          ]
        }
      ]
    },
    {
      "cell_type": "code",
      "metadata": {
        "colab": {
          "base_uri": "https://localhost:8080/"
        },
        "id": "7CB2ogJf-vpg",
        "outputId": "35ad7282-5c90-4d39-829d-df705bd9a2d2"
      },
      "source": [
        "lac=accuracy_score(y_test,lpred)\n",
        "\n",
        "lac"
      ],
      "execution_count": 18,
      "outputs": [
        {
          "output_type": "execute_result",
          "data": {
            "text/plain": [
              "0.6481481481481481"
            ]
          },
          "metadata": {},
          "execution_count": 18
        }
      ]
    },
    {
      "cell_type": "markdown",
      "metadata": {
        "id": "oxgEf9_v5_0L"
      },
      "source": [
        "##K-Nearest Neighbours"
      ]
    },
    {
      "cell_type": "code",
      "metadata": {
        "id": "GgsKQkPh6YLF"
      },
      "source": [
        "kcla=KNeighborsClassifier()"
      ],
      "execution_count": 19,
      "outputs": []
    },
    {
      "cell_type": "code",
      "metadata": {
        "colab": {
          "base_uri": "https://localhost:8080/"
        },
        "id": "QSciHw3h6dc9",
        "outputId": "c9c35ccf-15ad-482f-f1ce-26d94912516d"
      },
      "source": [
        "kcla.fit(X_train,y_train)"
      ],
      "execution_count": 20,
      "outputs": [
        {
          "output_type": "execute_result",
          "data": {
            "text/plain": [
              "KNeighborsClassifier(algorithm='auto', leaf_size=30, metric='minkowski',\n",
              "                     metric_params=None, n_jobs=None, n_neighbors=5, p=2,\n",
              "                     weights='uniform')"
            ]
          },
          "metadata": {},
          "execution_count": 20
        }
      ]
    },
    {
      "cell_type": "code",
      "metadata": {
        "colab": {
          "base_uri": "https://localhost:8080/"
        },
        "id": "muxVLJHP6oj1",
        "outputId": "9c27717a-de37-4388-cd87-a4e4341fd3ff"
      },
      "source": [
        "kpred = kcla.predict(X_test) \n",
        "print(len(kpred))"
      ],
      "execution_count": 21,
      "outputs": [
        {
          "output_type": "stream",
          "name": "stdout",
          "text": [
            "54\n"
          ]
        }
      ]
    },
    {
      "cell_type": "code",
      "metadata": {
        "colab": {
          "base_uri": "https://localhost:8080/"
        },
        "id": "__t6_m4Z62Uf",
        "outputId": "e710c4fd-b7b2-4bb3-db30-f65bf3bbf713"
      },
      "source": [
        "for j in range(len(y_test)):\n",
        "  print(\"predicted value :\",kpred[j],\"\\tActual value :\",y_test[j])"
      ],
      "execution_count": 22,
      "outputs": [
        {
          "output_type": "stream",
          "name": "stdout",
          "text": [
            "predicted value : 2 \tActual value : 1\n",
            "predicted value : 1 \tActual value : 1\n",
            "predicted value : 2 \tActual value : 2\n",
            "predicted value : 1 \tActual value : 1\n",
            "predicted value : 1 \tActual value : 1\n",
            "predicted value : 2 \tActual value : 1\n",
            "predicted value : 1 \tActual value : 1\n",
            "predicted value : 1 \tActual value : 1\n",
            "predicted value : 1 \tActual value : 1\n",
            "predicted value : 1 \tActual value : 2\n",
            "predicted value : 1 \tActual value : 1\n",
            "predicted value : 6 \tActual value : 6\n",
            "predicted value : 7 \tActual value : 7\n",
            "predicted value : 2 \tActual value : 1\n",
            "predicted value : 1 \tActual value : 2\n",
            "predicted value : 2 \tActual value : 2\n",
            "predicted value : 1 \tActual value : 1\n",
            "predicted value : 7 \tActual value : 7\n",
            "predicted value : 2 \tActual value : 2\n",
            "predicted value : 2 \tActual value : 5\n",
            "predicted value : 2 \tActual value : 2\n",
            "predicted value : 1 \tActual value : 1\n",
            "predicted value : 7 \tActual value : 7\n",
            "predicted value : 2 \tActual value : 2\n",
            "predicted value : 5 \tActual value : 2\n",
            "predicted value : 7 \tActual value : 7\n",
            "predicted value : 2 \tActual value : 3\n",
            "predicted value : 2 \tActual value : 2\n",
            "predicted value : 1 \tActual value : 2\n",
            "predicted value : 1 \tActual value : 1\n",
            "predicted value : 1 \tActual value : 1\n",
            "predicted value : 1 \tActual value : 2\n",
            "predicted value : 1 \tActual value : 1\n",
            "predicted value : 1 \tActual value : 3\n",
            "predicted value : 1 \tActual value : 2\n",
            "predicted value : 7 \tActual value : 7\n",
            "predicted value : 2 \tActual value : 2\n",
            "predicted value : 2 \tActual value : 2\n",
            "predicted value : 7 \tActual value : 7\n",
            "predicted value : 2 \tActual value : 2\n",
            "predicted value : 2 \tActual value : 2\n",
            "predicted value : 5 \tActual value : 2\n",
            "predicted value : 2 \tActual value : 2\n",
            "predicted value : 2 \tActual value : 2\n",
            "predicted value : 1 \tActual value : 1\n",
            "predicted value : 2 \tActual value : 2\n",
            "predicted value : 2 \tActual value : 1\n",
            "predicted value : 7 \tActual value : 7\n",
            "predicted value : 2 \tActual value : 5\n",
            "predicted value : 1 \tActual value : 1\n",
            "predicted value : 7 \tActual value : 5\n",
            "predicted value : 1 \tActual value : 1\n",
            "predicted value : 1 \tActual value : 2\n",
            "predicted value : 2 \tActual value : 1\n"
          ]
        }
      ]
    },
    {
      "cell_type": "code",
      "metadata": {
        "colab": {
          "base_uri": "https://localhost:8080/"
        },
        "id": "njnWn5yF_kVE",
        "outputId": "829e186e-9e4d-4016-891c-9495e871161e"
      },
      "source": [
        "kac=accuracy_score(y_test,kpred)\n",
        "\n",
        "kac"
      ],
      "execution_count": 23,
      "outputs": [
        {
          "output_type": "execute_result",
          "data": {
            "text/plain": [
              "0.6666666666666666"
            ]
          },
          "metadata": {},
          "execution_count": 23
        }
      ]
    },
    {
      "cell_type": "markdown",
      "metadata": {
        "id": "lld0XKOx7zFj"
      },
      "source": [
        "##Decision tree"
      ]
    },
    {
      "cell_type": "code",
      "metadata": {
        "id": "oGc1H0EG8fpF"
      },
      "source": [
        "dcla = DecisionTreeClassifier()"
      ],
      "execution_count": 24,
      "outputs": []
    },
    {
      "cell_type": "code",
      "metadata": {
        "colab": {
          "base_uri": "https://localhost:8080/"
        },
        "id": "SWQQ0Q798mp7",
        "outputId": "2614267e-d098-477e-bd90-84112e1a5ee5"
      },
      "source": [
        "dcla.fit(X_train,y_train)"
      ],
      "execution_count": 25,
      "outputs": [
        {
          "output_type": "execute_result",
          "data": {
            "text/plain": [
              "DecisionTreeClassifier(ccp_alpha=0.0, class_weight=None, criterion='gini',\n",
              "                       max_depth=None, max_features=None, max_leaf_nodes=None,\n",
              "                       min_impurity_decrease=0.0, min_impurity_split=None,\n",
              "                       min_samples_leaf=1, min_samples_split=2,\n",
              "                       min_weight_fraction_leaf=0.0, presort='deprecated',\n",
              "                       random_state=None, splitter='best')"
            ]
          },
          "metadata": {},
          "execution_count": 25
        }
      ]
    },
    {
      "cell_type": "code",
      "metadata": {
        "id": "-ORRRs-K8rkF"
      },
      "source": [
        "dpred = dcla.predict(X_test)"
      ],
      "execution_count": 26,
      "outputs": []
    },
    {
      "cell_type": "code",
      "metadata": {
        "colab": {
          "base_uri": "https://localhost:8080/"
        },
        "id": "HSRMEL4m8wwb",
        "outputId": "8f754978-af4c-466e-b008-d2503a683713"
      },
      "source": [
        "for i in range(len(y_test)):\n",
        "  print(\"predicted value :\",dpred[i],\"\\tActual value :\",y_test[i])"
      ],
      "execution_count": 27,
      "outputs": [
        {
          "output_type": "stream",
          "name": "stdout",
          "text": [
            "predicted value : 2 \tActual value : 1\n",
            "predicted value : 2 \tActual value : 1\n",
            "predicted value : 1 \tActual value : 2\n",
            "predicted value : 1 \tActual value : 1\n",
            "predicted value : 2 \tActual value : 1\n",
            "predicted value : 2 \tActual value : 1\n",
            "predicted value : 1 \tActual value : 1\n",
            "predicted value : 2 \tActual value : 1\n",
            "predicted value : 1 \tActual value : 1\n",
            "predicted value : 2 \tActual value : 2\n",
            "predicted value : 2 \tActual value : 1\n",
            "predicted value : 6 \tActual value : 6\n",
            "predicted value : 7 \tActual value : 7\n",
            "predicted value : 2 \tActual value : 1\n",
            "predicted value : 1 \tActual value : 2\n",
            "predicted value : 2 \tActual value : 2\n",
            "predicted value : 1 \tActual value : 1\n",
            "predicted value : 7 \tActual value : 7\n",
            "predicted value : 3 \tActual value : 2\n",
            "predicted value : 5 \tActual value : 5\n",
            "predicted value : 2 \tActual value : 2\n",
            "predicted value : 1 \tActual value : 1\n",
            "predicted value : 7 \tActual value : 7\n",
            "predicted value : 2 \tActual value : 2\n",
            "predicted value : 6 \tActual value : 2\n",
            "predicted value : 7 \tActual value : 7\n",
            "predicted value : 3 \tActual value : 3\n",
            "predicted value : 2 \tActual value : 2\n",
            "predicted value : 2 \tActual value : 2\n",
            "predicted value : 1 \tActual value : 1\n",
            "predicted value : 1 \tActual value : 1\n",
            "predicted value : 1 \tActual value : 2\n",
            "predicted value : 1 \tActual value : 1\n",
            "predicted value : 2 \tActual value : 3\n",
            "predicted value : 1 \tActual value : 2\n",
            "predicted value : 7 \tActual value : 7\n",
            "predicted value : 2 \tActual value : 2\n",
            "predicted value : 2 \tActual value : 2\n",
            "predicted value : 7 \tActual value : 7\n",
            "predicted value : 3 \tActual value : 2\n",
            "predicted value : 2 \tActual value : 2\n",
            "predicted value : 2 \tActual value : 2\n",
            "predicted value : 2 \tActual value : 2\n",
            "predicted value : 2 \tActual value : 2\n",
            "predicted value : 2 \tActual value : 1\n",
            "predicted value : 2 \tActual value : 2\n",
            "predicted value : 1 \tActual value : 1\n",
            "predicted value : 7 \tActual value : 7\n",
            "predicted value : 6 \tActual value : 5\n",
            "predicted value : 2 \tActual value : 1\n",
            "predicted value : 5 \tActual value : 5\n",
            "predicted value : 1 \tActual value : 1\n",
            "predicted value : 3 \tActual value : 2\n",
            "predicted value : 1 \tActual value : 1\n"
          ]
        }
      ]
    },
    {
      "cell_type": "code",
      "metadata": {
        "colab": {
          "base_uri": "https://localhost:8080/"
        },
        "id": "uHEfjK4pM3XR",
        "outputId": "74fdd9ba-13d7-4612-bfcd-faa77148ad72"
      },
      "source": [
        "dac=accuracy_score(y_test,dpred)\n",
        "\n",
        "dac"
      ],
      "execution_count": 28,
      "outputs": [
        {
          "output_type": "execute_result",
          "data": {
            "text/plain": [
              "0.6481481481481481"
            ]
          },
          "metadata": {},
          "execution_count": 28
        }
      ]
    },
    {
      "cell_type": "markdown",
      "metadata": {
        "id": "kdjwZ6N-818d"
      },
      "source": [
        "##Random forest"
      ]
    },
    {
      "cell_type": "code",
      "metadata": {
        "id": "cN0DcTGH9IRY"
      },
      "source": [
        "rcla= RandomForestClassifier(n_estimators=220)"
      ],
      "execution_count": 29,
      "outputs": []
    },
    {
      "cell_type": "code",
      "metadata": {
        "colab": {
          "base_uri": "https://localhost:8080/"
        },
        "id": "A14AdU749Mh8",
        "outputId": "36471c36-acf6-412b-955f-041afffecae6"
      },
      "source": [
        "rcla.fit(X_train,y_train)"
      ],
      "execution_count": 30,
      "outputs": [
        {
          "output_type": "execute_result",
          "data": {
            "text/plain": [
              "RandomForestClassifier(bootstrap=True, ccp_alpha=0.0, class_weight=None,\n",
              "                       criterion='gini', max_depth=None, max_features='auto',\n",
              "                       max_leaf_nodes=None, max_samples=None,\n",
              "                       min_impurity_decrease=0.0, min_impurity_split=None,\n",
              "                       min_samples_leaf=1, min_samples_split=2,\n",
              "                       min_weight_fraction_leaf=0.0, n_estimators=220,\n",
              "                       n_jobs=None, oob_score=False, random_state=None,\n",
              "                       verbose=0, warm_start=False)"
            ]
          },
          "metadata": {},
          "execution_count": 30
        }
      ]
    },
    {
      "cell_type": "code",
      "metadata": {
        "id": "_8PWwcsp9U2N"
      },
      "source": [
        "rpred = rcla.predict(X_test)"
      ],
      "execution_count": 31,
      "outputs": []
    },
    {
      "cell_type": "code",
      "metadata": {
        "colab": {
          "base_uri": "https://localhost:8080/"
        },
        "id": "KNPSrUOi9bpL",
        "outputId": "ad8174d2-8878-4ee2-c947-a5cf570a367b"
      },
      "source": [
        "for i in range(len(y_test)):\n",
        "  print(\"predicted value :\",rpred[i],\"\\tActual value :\",y_test[i])"
      ],
      "execution_count": 32,
      "outputs": [
        {
          "output_type": "stream",
          "name": "stdout",
          "text": [
            "predicted value : 2 \tActual value : 1\n",
            "predicted value : 2 \tActual value : 1\n",
            "predicted value : 1 \tActual value : 2\n",
            "predicted value : 1 \tActual value : 1\n",
            "predicted value : 1 \tActual value : 1\n",
            "predicted value : 1 \tActual value : 1\n",
            "predicted value : 1 \tActual value : 1\n",
            "predicted value : 1 \tActual value : 1\n",
            "predicted value : 1 \tActual value : 1\n",
            "predicted value : 2 \tActual value : 2\n",
            "predicted value : 1 \tActual value : 1\n",
            "predicted value : 6 \tActual value : 6\n",
            "predicted value : 7 \tActual value : 7\n",
            "predicted value : 1 \tActual value : 1\n",
            "predicted value : 1 \tActual value : 2\n",
            "predicted value : 2 \tActual value : 2\n",
            "predicted value : 1 \tActual value : 1\n",
            "predicted value : 7 \tActual value : 7\n",
            "predicted value : 2 \tActual value : 2\n",
            "predicted value : 5 \tActual value : 5\n",
            "predicted value : 2 \tActual value : 2\n",
            "predicted value : 1 \tActual value : 1\n",
            "predicted value : 7 \tActual value : 7\n",
            "predicted value : 2 \tActual value : 2\n",
            "predicted value : 6 \tActual value : 2\n",
            "predicted value : 7 \tActual value : 7\n",
            "predicted value : 3 \tActual value : 3\n",
            "predicted value : 2 \tActual value : 2\n",
            "predicted value : 2 \tActual value : 2\n",
            "predicted value : 1 \tActual value : 1\n",
            "predicted value : 1 \tActual value : 1\n",
            "predicted value : 2 \tActual value : 2\n",
            "predicted value : 1 \tActual value : 1\n",
            "predicted value : 1 \tActual value : 3\n",
            "predicted value : 2 \tActual value : 2\n",
            "predicted value : 7 \tActual value : 7\n",
            "predicted value : 2 \tActual value : 2\n",
            "predicted value : 2 \tActual value : 2\n",
            "predicted value : 7 \tActual value : 7\n",
            "predicted value : 2 \tActual value : 2\n",
            "predicted value : 2 \tActual value : 2\n",
            "predicted value : 2 \tActual value : 2\n",
            "predicted value : 2 \tActual value : 2\n",
            "predicted value : 7 \tActual value : 2\n",
            "predicted value : 2 \tActual value : 1\n",
            "predicted value : 2 \tActual value : 2\n",
            "predicted value : 1 \tActual value : 1\n",
            "predicted value : 7 \tActual value : 7\n",
            "predicted value : 5 \tActual value : 5\n",
            "predicted value : 1 \tActual value : 1\n",
            "predicted value : 5 \tActual value : 5\n",
            "predicted value : 1 \tActual value : 1\n",
            "predicted value : 3 \tActual value : 2\n",
            "predicted value : 1 \tActual value : 1\n"
          ]
        }
      ]
    },
    {
      "cell_type": "code",
      "metadata": {
        "colab": {
          "base_uri": "https://localhost:8080/"
        },
        "id": "q9WKv4W9Rgs_",
        "outputId": "e9abacec-aca9-4bee-eebd-df624c1de541"
      },
      "source": [
        "rac=accuracy_score(y_test,rpred)\n",
        "\n",
        "rac"
      ],
      "execution_count": 33,
      "outputs": [
        {
          "output_type": "execute_result",
          "data": {
            "text/plain": [
              "0.8333333333333334"
            ]
          },
          "metadata": {},
          "execution_count": 33
        }
      ]
    },
    {
      "cell_type": "markdown",
      "metadata": {
        "id": "gTGSnErU9mC5"
      },
      "source": [
        "##Support Vector Machine"
      ]
    },
    {
      "cell_type": "code",
      "metadata": {
        "id": "n0NW0sc490oq"
      },
      "source": [
        "#scla = SVC(kernel='linear')\n",
        "scla = SVC()"
      ],
      "execution_count": 34,
      "outputs": []
    },
    {
      "cell_type": "code",
      "metadata": {
        "colab": {
          "base_uri": "https://localhost:8080/"
        },
        "id": "kxkr7l0Z9370",
        "outputId": "34b39c57-1391-4d09-f3e7-e3d7a5577691"
      },
      "source": [
        "scla.fit(X_train,y_train)"
      ],
      "execution_count": 35,
      "outputs": [
        {
          "output_type": "execute_result",
          "data": {
            "text/plain": [
              "SVC(C=1.0, break_ties=False, cache_size=200, class_weight=None, coef0=0.0,\n",
              "    decision_function_shape='ovr', degree=3, gamma='scale', kernel='rbf',\n",
              "    max_iter=-1, probability=False, random_state=None, shrinking=True,\n",
              "    tol=0.001, verbose=False)"
            ]
          },
          "metadata": {},
          "execution_count": 35
        }
      ]
    },
    {
      "cell_type": "code",
      "metadata": {
        "id": "Zr92OO049-bP"
      },
      "source": [
        "spred = scla.predict(X_test)"
      ],
      "execution_count": 36,
      "outputs": []
    },
    {
      "cell_type": "code",
      "metadata": {
        "colab": {
          "base_uri": "https://localhost:8080/"
        },
        "id": "Us1qgkOv-D0E",
        "outputId": "48909642-0974-40ca-ecff-d70efdd6559a"
      },
      "source": [
        "for i in range(len(y_test)):\n",
        "  print(\"predicted value :\",spred[i],\"\\tActual value :\",y_test[i])"
      ],
      "execution_count": 37,
      "outputs": [
        {
          "output_type": "stream",
          "name": "stdout",
          "text": [
            "predicted value : 2 \tActual value : 1\n",
            "predicted value : 1 \tActual value : 1\n",
            "predicted value : 1 \tActual value : 2\n",
            "predicted value : 1 \tActual value : 1\n",
            "predicted value : 1 \tActual value : 1\n",
            "predicted value : 2 \tActual value : 1\n",
            "predicted value : 1 \tActual value : 1\n",
            "predicted value : 1 \tActual value : 1\n",
            "predicted value : 1 \tActual value : 1\n",
            "predicted value : 2 \tActual value : 2\n",
            "predicted value : 1 \tActual value : 1\n",
            "predicted value : 6 \tActual value : 6\n",
            "predicted value : 7 \tActual value : 7\n",
            "predicted value : 2 \tActual value : 1\n",
            "predicted value : 1 \tActual value : 2\n",
            "predicted value : 2 \tActual value : 2\n",
            "predicted value : 1 \tActual value : 1\n",
            "predicted value : 7 \tActual value : 7\n",
            "predicted value : 2 \tActual value : 2\n",
            "predicted value : 5 \tActual value : 5\n",
            "predicted value : 2 \tActual value : 2\n",
            "predicted value : 1 \tActual value : 1\n",
            "predicted value : 7 \tActual value : 7\n",
            "predicted value : 2 \tActual value : 2\n",
            "predicted value : 6 \tActual value : 2\n",
            "predicted value : 7 \tActual value : 7\n",
            "predicted value : 2 \tActual value : 3\n",
            "predicted value : 1 \tActual value : 2\n",
            "predicted value : 2 \tActual value : 2\n",
            "predicted value : 1 \tActual value : 1\n",
            "predicted value : 1 \tActual value : 1\n",
            "predicted value : 2 \tActual value : 2\n",
            "predicted value : 1 \tActual value : 1\n",
            "predicted value : 1 \tActual value : 3\n",
            "predicted value : 1 \tActual value : 2\n",
            "predicted value : 7 \tActual value : 7\n",
            "predicted value : 2 \tActual value : 2\n",
            "predicted value : 2 \tActual value : 2\n",
            "predicted value : 7 \tActual value : 7\n",
            "predicted value : 2 \tActual value : 2\n",
            "predicted value : 2 \tActual value : 2\n",
            "predicted value : 5 \tActual value : 2\n",
            "predicted value : 2 \tActual value : 2\n",
            "predicted value : 2 \tActual value : 2\n",
            "predicted value : 2 \tActual value : 1\n",
            "predicted value : 2 \tActual value : 2\n",
            "predicted value : 1 \tActual value : 1\n",
            "predicted value : 7 \tActual value : 7\n",
            "predicted value : 2 \tActual value : 5\n",
            "predicted value : 1 \tActual value : 1\n",
            "predicted value : 5 \tActual value : 5\n",
            "predicted value : 1 \tActual value : 1\n",
            "predicted value : 2 \tActual value : 2\n",
            "predicted value : 1 \tActual value : 1\n"
          ]
        }
      ]
    },
    {
      "cell_type": "code",
      "metadata": {
        "colab": {
          "base_uri": "https://localhost:8080/"
        },
        "id": "h3SS9ZU8Rq99",
        "outputId": "4d94e925-afa6-4562-ca51-b43b3a6ff8b5"
      },
      "source": [
        "sac=accuracy_score(y_test,spred)\n",
        "\n",
        "sac"
      ],
      "execution_count": 38,
      "outputs": [
        {
          "output_type": "execute_result",
          "data": {
            "text/plain": [
              "0.7592592592592593"
            ]
          },
          "metadata": {},
          "execution_count": 38
        }
      ]
    },
    {
      "cell_type": "markdown",
      "metadata": {
        "id": "SZizY577-H7Z"
      },
      "source": [
        "#Comparing "
      ]
    },
    {
      "cell_type": "code",
      "metadata": {
        "colab": {
          "base_uri": "https://localhost:8080/"
        },
        "id": "6AzIL72O-E5y",
        "outputId": "45606ac8-d159-4ce3-ffae-c96ab9452c04"
      },
      "source": [
        "print(\"Logistic Regression  :\",lac,\"\\nK-Nearest Neighbours :\",kac,\"\\nDecision tree    :\",dac,\n",
        "      \"\\nRandom forest        :\",rac,\"\\nSVM    \\t\\t     :\",sac)"
      ],
      "execution_count": 39,
      "outputs": [
        {
          "output_type": "stream",
          "name": "stdout",
          "text": [
            "Logistic Regression  : 0.6481481481481481 \n",
            "K-Nearest Neighbours : 0.6666666666666666 \n",
            "Decision tree    : 0.6481481481481481 \n",
            "Random forest        : 0.8333333333333334 \n",
            "SVM    \t\t     : 0.7592592592592593\n"
          ]
        }
      ]
    },
    {
      "cell_type": "markdown",
      "metadata": {
        "id": "JSXnuM0ncV2W"
      },
      "source": [
        "#By taking user input predicting values using Random Forest Algorithm"
      ]
    },
    {
      "cell_type": "code",
      "metadata": {
        "colab": {
          "base_uri": "https://localhost:8080/"
        },
        "id": "slOqoDwW-gAR",
        "outputId": "baba6550-09c1-4645-cc6f-df5197f9d40c"
      },
      "source": [
        "print(\"Enter values RI: refractive index Na: Sodium Mg: Magnesium Al: Aluminum Si: Silicon K: Potassium Ca: Calcium Ba: Barium Fe: Iron\")\n",
        "print(\"\\n For Example [1.52101, 13.64, 4.49, 1.1, 71.78, 0.06, 8.75, 0,0]\\n \")\n",
        "RI = input('RI:')\n",
        "Na = input('Na:')\n",
        "Mg = input('Mg:')\n",
        "Al = input('Al:')\n",
        "Si = input('Si:')\n",
        "K = input('K:')\n",
        "Ca = input('Ca:')\n",
        "Ba = input('Ba:')\n",
        "Fe = input('Fe:')"
      ],
      "execution_count": 40,
      "outputs": [
        {
          "name": "stdout",
          "output_type": "stream",
          "text": [
            "Enter values RI: refractive index Na: Sodium Mg: Magnesium Al: Aluminum Si: Silicon K: Potassium Ca: Calcium Ba: Barium Fe: Iron\n",
            "\n",
            " For Example [1.52101, 13.64, 4.49, 1.1, 71.78, 0.06, 8.75, 0,0]\n",
            " \n",
            "RI:1.5\n",
            "Na:13\n",
            "Mg:4\n",
            "Al:1.1\n",
            "Si:71.78\n",
            "K:0.06\n",
            "Ca:8.75\n",
            "Ba:0\n",
            "Fe:0\n"
          ]
        }
      ]
    },
    {
      "cell_type": "code",
      "metadata": {
        "colab": {
          "base_uri": "https://localhost:8080/",
          "height": 35
        },
        "id": "6V3XGfV9doZN",
        "outputId": "31bd174f-af52-4ca7-c093-a5d6d1400472"
      },
      "source": [
        "rpred=rcla.predict(sc.transform([[RI,Na,Mg,Al,Si,K,Ca,Ba,Fe]]))\n",
        "values(rpred[0])"
      ],
      "execution_count": 41,
      "outputs": [
        {
          "output_type": "execute_result",
          "data": {
            "application/vnd.google.colaboratory.intrinsic+json": {
              "type": "string"
            },
            "text/plain": [
              "'building windows float processed'"
            ]
          },
          "metadata": {},
          "execution_count": 41
        }
      ]
    }
  ]
}